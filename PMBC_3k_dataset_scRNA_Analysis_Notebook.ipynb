{
 "cells": [
  {
   "cell_type": "code",
   "execution_count": null,
   "metadata": {},
   "outputs": [],
   "source": [
    "# Import necessary libraries for directory creation\n",
    "import os\n",
    "\n",
    "# List of directories to create\n",
    "dirs = ['data_3k', 'results_3k', 'figures']\n",
    "\n",
    "# Create directories if they don't exist\n",
    "for directory in dirs:\n",
    "    if not os.path.exists(directory):\n",
    "        os.makedirs(directory)\n",
    "        print(f\"Directory '{directory}' created.\")\n",
    "    else:\n",
    "        print(f\"Directory '{directory}' already exists.\")\n"
   ]
  },
  {
   "cell_type": "code",
   "execution_count": null,
   "metadata": {},
   "outputs": [],
   "source": [
    "import tarfile\n",
    "\n",
    "# Path to the tar file\n",
    "tar_file_path = \"data_3k/pbmc3k_filtered_gene_bc_matrices.tar.gz\"\n",
    "\n",
    "# Unzip the tar file into the 'data' folder\n",
    "with tarfile.open(tar_file_path, \"r:gz\") as tar:\n",
    "    tar.extractall(path=\"data\")\n",
    "    print(\"Data unzipped successfully.\")\n"
   ]
  },
  {
   "cell_type": "code",
   "execution_count": null,
   "metadata": {},
   "outputs": [],
   "source": [
    "import scanpy as sc\n",
    "\n",
    "# Define the path to the unzipped data\n",
    "data_path = \"data_3k/filtered_gene_bc_matrices/hg19/\"\n",
    "\n",
    "# Load the 10X data into an AnnData object\n",
    "adata = sc.read_10x_mtx(data_path, var_names='gene_symbols', cache=True)\n",
    "print(\"Data loaded successfully.\")\n",
    "\n",
    "# Save the raw AnnData object for future use\n",
    "adata.write(\"results_3k/adata_raw.h5ad\")\n",
    "print(\"AnnData object saved as 'adata_raw.h5ad'.\")\n"
   ]
  },
  {
   "cell_type": "code",
   "execution_count": null,
   "metadata": {},
   "outputs": [],
   "source": [
    "# Read the raw data\n",
    "adata = sc.read(\"results_3k/adata_raw.h5ad\")\n",
    "\n",
    "# Preprocessing: filter cells and genes\n",
    "sc.pp.filter_cells(adata, min_genes=200)\n",
    "sc.pp.filter_genes(adata, min_cells=3)\n",
    "\n",
    "# Annotate mitochondrial genes\n",
    "adata.var['mt'] = adata.var_names.str.startswith('MT-')\n",
    "\n",
    "# Compute QC metrics (e.g., percentage of mitochondrial genes)\n",
    "sc.pp.calculate_qc_metrics(adata, qc_vars=['mt'], inplace=True)\n",
    "\n",
    "# Normalize the data\n",
    "sc.pp.normalize_total(adata, target_sum=1e4)\n",
    "\n",
    "# Log-transform the data\n",
    "sc.pp.log1p(adata)\n",
    "\n",
    "# Save the preprocessed AnnData object\n",
    "adata.write(\"results_3k/adata_preprocessed.h5ad\")\n",
    "print(\"Preprocessed data saved as 'adata_preprocessed.h5ad'.\")\n"
   ]
  },
  {
   "cell_type": "code",
   "execution_count": null,
   "metadata": {},
   "outputs": [],
   "source": [
    "# Load the preprocessed data\n",
    "adata = sc.read(\"results_3k/adata_preprocessed.h5ad\")\n",
    "\n",
    "# Identify highly variable genes\n",
    "sc.pp.highly_variable_genes(adata, min_mean=0.0125, max_mean=3, min_disp=0.5)\n",
    "adata = adata[:, adata.var.highly_variable]\n",
    "\n",
    "hvg_3k = sum(adata.var['highly_variable'])\n",
    "print(f\"Number of highly variable genes in the 3k dataset: {hvg_3k}\")\n",
    "\n",
    "# Scale the data for PCA\n",
    "# Scale the data to have mean 0 and variance 1 for each gene\n",
    "sc.pp.scale(adata, zero_center=True, max_value=10)\n",
    "\n",
    "# Perform PCA\n",
    "sc.tl.pca(adata, svd_solver='arpack')\n",
    "sc.pl.pca(adata, save=\"pca_3k.png\")\n",
    "print(\"PCA complete: Saved PCA plot in the 'figures' folder.\")\n",
    "\n",
    "# Save the PCA-transformed data\n",
    "adata.write(\"results_3k/adata_pca.h5ad\")\n",
    "print(\"PCA completed and saved.\")\n"
   ]
  },
  {
   "cell_type": "code",
   "execution_count": null,
   "metadata": {},
   "outputs": [],
   "source": [
    "\n",
    "!pip install leidenalg\n",
    "!pip install igraph\n",
    "\n",
    "import leidenalg\n",
    "import igraph\n",
    "\n",
    "# Load the PCA data\n",
    "adata = sc.read(\"results_3k/adata_pca.h5ad\")\n",
    "\n",
    "# Compute the neighborhood graph\n",
    "sc.pp.neighbors(adata, n_neighbors=10, n_pcs=40)\n",
    "\n",
    "# Run UMAP\n",
    "sc.tl.umap(adata)\n",
    "\n",
    "# Perform clustering using the Leiden algorithm\n",
    "sc.tl.leiden(adata)\n",
    "\n",
    "# Save the clustered data\n",
    "adata.write(\"results_3k/adata_clustered.h5ad\")\n",
    "print(\"Clustering completed and saved.\")"
   ]
  },
  {
   "cell_type": "code",
   "execution_count": null,
   "metadata": {},
   "outputs": [],
   "source": [
    "\n",
    "# Load the clustered data\n",
    "adata = sc.read(\"results_3k/adata_clustered.h5ad\")\n",
    "\n",
    "print(adata.var_names[:10])\n",
    "\n",
    "# Plot UMAP with clusters\n",
    "sc.pl.umap(adata, color=['leiden'], save='_clusters_3k.png')\n",
    "\n",
    "# Plot UMAP with marker genes\n",
    "sc.pl.umap(adata, color=['CST3', 'NKG7', 'PPBP', 'MS4A1'], save='_markers_3k.png')\n",
    "\n",
    "print(\"Plots saved in the 'figures' directory.\")\n"
   ]
  },
  {
   "cell_type": "code",
   "execution_count": null,
   "metadata": {},
   "outputs": [],
   "source": [
    "# Import necessary libraries\n",
    "import scanpy as sc\n",
    "import pandas as pd\n",
    "\n",
    "# Compute the ranked genes for each cluster using 'leiden' method\n",
    "# Perform differential expression analysis\n",
    "sc.tl.rank_genes_groups(adata, 'leiden', method='t-test')\n",
    "\n",
    "# Save the plot of ranked genes in the 'figures' folder\n",
    "sc.pl.rank_genes_groups(adata, save='ranked_genes_leiden.png')  # This saves to figures folder by default\n",
    "\n",
    "# Save the ranked genes data to the 'results' folder\n",
    "# First, extract the ranked genes from the AnnData object\n",
    "ranked_genes_df = pd.DataFrame({\n",
    "    group: pd.DataFrame(adata.uns['rank_genes_groups']['names'])[group] \n",
    "    for group in adata.uns['rank_genes_groups']['names'].dtype.names\n",
    "})\n",
    "\n",
    "# Save the DataFrame with ranked genes into a CSV file in the 'results' folder\n",
    "ranked_genes_df.to_csv('results_3k/ranked_genes_leiden.csv', index=False)\n"
   ]
  }
 ],
 "metadata": {
  "kernelspec": {
   "display_name": "Python 3",
   "language": "python",
   "name": "python3"
  },
  "language_info": {
   "codemirror_mode": {
    "name": "ipython",
    "version": 3
   },
   "file_extension": ".py",
   "mimetype": "text/x-python",
   "name": "python",
   "nbconvert_exporter": "python",
   "pygments_lexer": "ipython3",
   "version": "3.11.5"
  }
 },
 "nbformat": 4,
 "nbformat_minor": 2
}
