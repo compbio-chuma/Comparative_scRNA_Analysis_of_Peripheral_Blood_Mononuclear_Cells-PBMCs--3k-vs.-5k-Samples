{
 "cells": [
  {
   "cell_type": "code",
   "execution_count": null,
   "metadata": {},
   "outputs": [],
   "source": [
    "import os\n",
    "\n",
    "# Create directories if they don't exist\n",
    "dirs = [\"data_5k\", \"scripts_5k\", \"results_5k\", \"figures\"]\n",
    "for dir in dirs:\n",
    "    os.makedirs(dir, exist_ok=True)\n",
    "print(\"Directories created successfully: data_5k, scripts_5k, results_5k, figures_5k.\")\n"
   ]
  },
  {
   "cell_type": "code",
   "execution_count": null,
   "metadata": {},
   "outputs": [],
   "source": [
    "import scanpy as sc\n",
    "\n",
    "# Load the 5k dataset\n",
    "adata_5k = sc.read_h5ad(\"data_5k/5k_pbmc_10x.h5ad\")\n",
    "\n",
    "# Save raw data for future use\n",
    "adata_5k.raw = adata_5k\n",
    "\n",
    "# Save the loaded data for checkpoint\n",
    "adata_5k.write(\"results_5k/adata_raw_5k.h5ad\")\n",
    "\n",
    "print(\"5k dataset loaded and raw data saved successfully.\")\n"
   ]
  },
  {
   "cell_type": "code",
   "execution_count": null,
   "metadata": {},
   "outputs": [],
   "source": [
    "# Quality control and filtering\n",
    "sc.pp.filter_cells(adata_5k, min_genes=200)\n",
    "sc.pp.filter_genes(adata_5k, min_cells=3)\n",
    "print(\"Quality control: Filtered cells with fewer than 200 genes and genes detected in fewer than 3 cells.\")\n",
    "\n",
    "# Annotate mitochondrial genes\n",
    "adata_5k.var['mt'] = adata_5k.var_names.str.startswith('MT-')\n",
    "\n",
    "# Compute QC metrics (e.g., percentage of mitochondrial genes)\n",
    "sc.pp.calculate_qc_metrics(adata_5k, qc_vars=['mt'], inplace=True)\n",
    "\n",
    "\n",
    "# Normalize the data\n",
    "sc.pp.normalize_total(adata_5k, target_sum=1e4)\n",
    "sc.pp.log1p(adata_5k)\n",
    "print(\"Normalization complete: Data normalized to 10,000 counts per cell and log-transformed.\")\n",
    "\n",
    "# Identify highly variable genes\n",
    "sc.pp.highly_variable_genes(adata_5k, min_mean=0.0125, max_mean=3, min_disp=0.5)\n",
    "print(\"Highly variable genes identified with specified parameters.\")\n",
    "\n",
    "hvg_5k = sum(adata_5k.var['highly_variable'])\n",
    "print(f\"Number of highly variable genes in the 5k dataset: {hvg_5k}\")\n",
    "\n",
    "# Save preprocessing results\n",
    "adata_5k.write(\"results_5k/adata_preprocessed_5k.h5ad\")\n",
    "print(\"Preprocessed data saved successfully.\")\n"
   ]
  },
  {
   "cell_type": "code",
   "execution_count": null,
   "metadata": {},
   "outputs": [],
   "source": [
    "# Scale the data to have mean 0 and variance 1 for each gene\n",
    "sc.pp.scale(adata_5k, zero_center=True, max_value=10)\n",
    "\n",
    "# PCA\n",
    "sc.pp.pca(adata_5k, n_comps=50)\n",
    "sc.pl.pca(adata_5k, save=\"pca_5k.png\")\n",
    "print(\"PCA complete: Saved PCA plot in the 'figures' folder.\")\n",
    "\n",
    "# Neighbor graph construction\n",
    "sc.pp.neighbors(adata_5k, n_neighbors=10, n_pcs=40)\n",
    "print(\"Neighbor graph construction complete.\")\n",
    "\n",
    "# Clustering using Leiden algorithm\n",
    "sc.tl.leiden(adata_5k)\n",
    "print(\"Clustering complete: Performed Leiden clustering.\")\n",
    "\n",
    "# Save clustering results\n",
    "adata_5k.write(\"results_5k/adata_clustered_5k.h5ad\")\n",
    "print(\"Clustering results saved successfully in 'results_5k' folder.\")\n"
   ]
  },
  {
   "cell_type": "code",
   "execution_count": null,
   "metadata": {},
   "outputs": [],
   "source": [
    "# UMAP for visualization\n",
    "sc.tl.umap(adata_5k)\n",
    "sc.pl.umap(adata_5k, color=[\"leiden\"], save=\"umap_5k.png\")\n",
    "print(\"UMAP complete: Saved UMAP plot in the 'figures' folder.\")\n",
    "\n",
    "# Plot UMAP with marker genes\n",
    "sc.pl.umap(adata_5k, color=['CST3', 'NKG7', 'PPBP', 'MS4A1'], save='_markers_5k.png')\n",
    "\n",
    "print(\"Plots saved in the 'figures' directory.\")\n"
   ]
  },
  {
   "cell_type": "code",
   "execution_count": null,
   "metadata": {},
   "outputs": [],
   "source": [
    "# Perform differential expression analysis\n",
    "sc.tl.rank_genes_groups(adata_5k, 'leiden', method='t-test')\n",
    "print(\"Differential expression analysis complete.\")\n",
    "\n",
    "# Save marker gene ranking plot\n",
    "sc.pl.rank_genes_groups(adata_5k, save=\"top_genes_5k.png\")\n",
    "print(\"Saved marker gene plot in the 'figures_5k' folder.\")\n",
    "\n",
    "# Save gene ranking results\n",
    "import pandas as pd\n",
    "\n",
    "# Convert results to DataFrame and save\n",
    "gene_ranking = pd.DataFrame(adata_5k.uns['rank_genes_groups']['names'])\n",
    "gene_ranking.to_csv(\"results_5k/rank_genes_groups_5k.csv\")\n",
    "print(\"Marker gene ranking results saved as 'rank_genes_groups_5k.csv' in the 'results_5k' folder.\")\n"
   ]
  }
 ],
 "metadata": {
  "kernelspec": {
   "display_name": "Python 3",
   "language": "python",
   "name": "python3"
  },
  "language_info": {
   "codemirror_mode": {
    "name": "ipython",
    "version": 3
   },
   "file_extension": ".py",
   "mimetype": "text/x-python",
   "name": "python",
   "nbconvert_exporter": "python",
   "pygments_lexer": "ipython3",
   "version": "3.11.5"
  }
 },
 "nbformat": 4,
 "nbformat_minor": 2
}
